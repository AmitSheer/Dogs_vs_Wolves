{
 "cells": [
  {
   "cell_type": "code",
   "execution_count": 351,
   "metadata": {},
   "outputs": [
    {
     "name": "stdout",
     "output_type": "stream",
     "text": [
      "Num GPUs Available:  False\n"
     ]
    }
   ],
   "source": [
    "import matplotlib.pyplot as plt \n",
    "import tensorflow as tf\n",
    "\n",
    "print(\"Num GPUs Available: \", tf.test.is_gpu_available())\n",
    "\n"
   ]
  },
  {
   "cell_type": "code",
   "execution_count": 352,
   "metadata": {},
   "outputs": [],
   "source": [
    "path=\"../../data\"\n",
    "dogvscat = \"/Users/amits/Downloads/train\"\n",
    "IMG_SIZE=100\n",
    "batch_size = 30\n",
    "EAPOCHS = 20"
   ]
  },
  {
   "cell_type": "markdown",
   "metadata": {},
   "source": [
    "Load images with keras"
   ]
  },
  {
   "cell_type": "code",
   "execution_count": 353,
   "metadata": {},
   "outputs": [
    {
     "name": "stdout",
     "output_type": "stream",
     "text": [
      "Found 25000 files belonging to 2 classes.\n",
      "Using 17500 files for training.\n"
     ]
    },
    {
     "data": {
      "text/plain": [
       "['cat', 'dog']"
      ]
     },
     "execution_count": 353,
     "metadata": {},
     "output_type": "execute_result"
    }
   ],
   "source": [
    "train_ds = tf.keras.utils.image_dataset_from_directory(\n",
    "  dogvscat,\n",
    "  validation_split=0.3,\n",
    "  subset=\"training\",\n",
    "  seed=123,\n",
    "  image_size=(IMG_SIZE, IMG_SIZE),\n",
    "  batch_size=batch_size)\n",
    "\n",
    "train_ds.class_names"
   ]
  },
  {
   "cell_type": "code",
   "execution_count": 354,
   "metadata": {},
   "outputs": [
    {
     "name": "stdout",
     "output_type": "stream",
     "text": [
      "Found 25000 files belonging to 2 classes.\n",
      "Using 7500 files for validation.\n"
     ]
    }
   ],
   "source": [
    "val_ds = tf.keras.utils.image_dataset_from_directory(\n",
    "  dogvscat,\n",
    "  validation_split=0.3,\n",
    "  subset=\"validation\",\n",
    "  seed=123,\n",
    "  image_size=(IMG_SIZE, IMG_SIZE),\n",
    "  batch_size=batch_size)"
   ]
  },
  {
   "cell_type": "code",
   "execution_count": 355,
   "metadata": {},
   "outputs": [],
   "source": [
    "kk = val_ds.unbatch()\n",
    "size = 0\n",
    "for x,y in kk:\n",
    "    size=size+1\n",
    "\n",
    "test_ds = val_ds.take(int(size*(2/3)/batch_size))\n",
    "val_ds = val_ds.skip(int(size*(2/3)/batch_size))"
   ]
  },
  {
   "cell_type": "code",
   "execution_count": 356,
   "metadata": {},
   "outputs": [],
   "source": [
    "num_classes = 2\n",
    "\n",
    "model = tf.keras.Sequential([\n",
    "  tf.keras.layers.Rescaling(1./255),\n",
    "  tf.keras.layers.Conv2D(40, 3, activation='relu'),\n",
    "  tf.keras.layers.MaxPooling2D(),\n",
    "  tf.keras.layers.Conv2D(40, 3, activation='relu'),\n",
    "  tf.keras.layers.MaxPooling2D(),\n",
    "  tf.keras.layers.Conv2D(40, 3, activation='relu'),\n",
    "  tf.keras.layers.MaxPooling2D(),\n",
    "  tf.keras.layers.Flatten(),\n",
    "  tf.keras.layers.Dense(80, activation='relu'),\n",
    "  tf.keras.layers.Dropout(0.5),\n",
    "  tf.keras.layers.Dense(num_classes, activation='softmax'),\n",
    "  # tf.keras.layers.Dense(num_classes)\n",
    "])"
   ]
  },
  {
   "cell_type": "code",
   "execution_count": 357,
   "metadata": {},
   "outputs": [],
   "source": [
    "model.compile(\n",
    "  optimizer='adam',\n",
    "  loss=tf.losses.SparseCategoricalCrossentropy(from_logits=True),\n",
    "  metrics=['accuracy'])"
   ]
  },
  {
   "cell_type": "code",
   "execution_count": 358,
   "metadata": {},
   "outputs": [
    {
     "name": "stdout",
     "output_type": "stream",
     "text": [
      "Epoch 1/40\n",
      "438/438 [==============================] - 95s 214ms/step - loss: 0.6487 - accuracy: 0.6098 - val_loss: 0.5416 - val_accuracy: 0.7312\n",
      "Epoch 2/40\n",
      "438/438 [==============================] - 86s 196ms/step - loss: 0.5497 - accuracy: 0.7202 - val_loss: 0.5230 - val_accuracy: 0.7584\n",
      "Epoch 3/40\n",
      "438/438 [==============================] - 87s 199ms/step - loss: 0.4783 - accuracy: 0.7740 - val_loss: 0.4379 - val_accuracy: 0.8044\n",
      "Epoch 4/40\n",
      "438/438 [==============================] - 87s 199ms/step - loss: 0.4246 - accuracy: 0.8054 - val_loss: 0.4080 - val_accuracy: 0.8136\n",
      "Epoch 5/40\n",
      "438/438 [==============================] - 90s 205ms/step - loss: 0.3789 - accuracy: 0.8302 - val_loss: 0.4452 - val_accuracy: 0.8076\n",
      "Epoch 6/40\n",
      "438/438 [==============================] - 91s 208ms/step - loss: 0.3479 - accuracy: 0.8510 - val_loss: 0.4126 - val_accuracy: 0.8196\n",
      "Epoch 7/40\n",
      "438/438 [==============================] - 89s 204ms/step - loss: 0.3083 - accuracy: 0.8691 - val_loss: 0.3525 - val_accuracy: 0.8620\n",
      "Epoch 8/40\n",
      "438/438 [==============================] - 89s 204ms/step - loss: 0.2736 - accuracy: 0.8835 - val_loss: 0.3880 - val_accuracy: 0.8528\n",
      "Epoch 9/40\n",
      "438/438 [==============================] - 89s 204ms/step - loss: 0.2492 - accuracy: 0.8970 - val_loss: 0.3549 - val_accuracy: 0.8588\n",
      "Epoch 10/40\n",
      "438/438 [==============================] - 90s 204ms/step - loss: 0.2198 - accuracy: 0.9082 - val_loss: 0.3827 - val_accuracy: 0.8572\n",
      "Epoch 11/40\n",
      "438/438 [==============================] - 90s 204ms/step - loss: 0.1940 - accuracy: 0.9222 - val_loss: 0.4250 - val_accuracy: 0.8460\n",
      "Epoch 12/40\n",
      "438/438 [==============================] - 90s 205ms/step - loss: 0.1676 - accuracy: 0.9298 - val_loss: 0.4549 - val_accuracy: 0.8492\n",
      "Epoch 13/40\n",
      "438/438 [==============================] - 89s 204ms/step - loss: 0.1561 - accuracy: 0.9367 - val_loss: 0.4895 - val_accuracy: 0.8436\n",
      "Epoch 14/40\n",
      "438/438 [==============================] - 90s 206ms/step - loss: 0.1381 - accuracy: 0.9461 - val_loss: 0.4879 - val_accuracy: 0.8540\n",
      "Epoch 15/40\n",
      "438/438 [==============================] - 91s 207ms/step - loss: 0.1253 - accuracy: 0.9495 - val_loss: 0.5603 - val_accuracy: 0.8528\n",
      "Epoch 16/40\n",
      "438/438 [==============================] - 91s 207ms/step - loss: 0.1110 - accuracy: 0.9541 - val_loss: 0.5453 - val_accuracy: 0.8448\n",
      "Epoch 17/40\n",
      "438/438 [==============================] - 91s 207ms/step - loss: 0.1106 - accuracy: 0.9558 - val_loss: 0.5482 - val_accuracy: 0.8544\n",
      "Epoch 18/40\n",
      "438/438 [==============================] - 91s 206ms/step - loss: 0.0964 - accuracy: 0.9625 - val_loss: 0.5999 - val_accuracy: 0.8308\n",
      "Epoch 19/40\n",
      "438/438 [==============================] - 91s 207ms/step - loss: 0.0959 - accuracy: 0.9619 - val_loss: 0.6248 - val_accuracy: 0.8448\n",
      "Epoch 20/40\n",
      "438/438 [==============================] - 91s 207ms/step - loss: 0.0934 - accuracy: 0.9646 - val_loss: 0.6710 - val_accuracy: 0.8432\n",
      "Epoch 21/40\n",
      "438/438 [==============================] - 91s 206ms/step - loss: 0.0853 - accuracy: 0.9683 - val_loss: 0.6916 - val_accuracy: 0.8464\n",
      "Epoch 22/40\n",
      "438/438 [==============================] - 91s 207ms/step - loss: 0.0774 - accuracy: 0.9687 - val_loss: 0.6578 - val_accuracy: 0.8552\n",
      "Epoch 23/40\n",
      "438/438 [==============================] - 91s 207ms/step - loss: 0.0780 - accuracy: 0.9698 - val_loss: 0.7593 - val_accuracy: 0.8560\n",
      "Epoch 24/40\n",
      "438/438 [==============================] - 90s 206ms/step - loss: 0.0767 - accuracy: 0.9721 - val_loss: 0.6455 - val_accuracy: 0.8516\n",
      "Epoch 25/40\n",
      "438/438 [==============================] - 91s 207ms/step - loss: 0.0744 - accuracy: 0.9713 - val_loss: 0.7739 - val_accuracy: 0.8504\n",
      "Epoch 26/40\n",
      "438/438 [==============================] - 91s 207ms/step - loss: 0.0638 - accuracy: 0.9756 - val_loss: 0.7597 - val_accuracy: 0.8340\n",
      "Epoch 27/40\n",
      "438/438 [==============================] - 91s 207ms/step - loss: 0.0672 - accuracy: 0.9752 - val_loss: 0.7852 - val_accuracy: 0.8444\n",
      "Epoch 28/40\n",
      "438/438 [==============================] - 91s 207ms/step - loss: 0.0624 - accuracy: 0.9771 - val_loss: 0.8539 - val_accuracy: 0.8588\n",
      "Epoch 29/40\n",
      "438/438 [==============================] - 90s 206ms/step - loss: 0.0698 - accuracy: 0.9740 - val_loss: 0.7157 - val_accuracy: 0.8560\n",
      "Epoch 30/40\n",
      "438/438 [==============================] - 91s 206ms/step - loss: 0.0708 - accuracy: 0.9737 - val_loss: 0.7315 - val_accuracy: 0.8540\n",
      "Epoch 31/40\n",
      "438/438 [==============================] - 91s 207ms/step - loss: 0.0582 - accuracy: 0.9789 - val_loss: 0.8299 - val_accuracy: 0.8552\n",
      "Epoch 32/40\n",
      "438/438 [==============================] - 91s 207ms/step - loss: 0.0562 - accuracy: 0.9794 - val_loss: 0.7277 - val_accuracy: 0.8488\n",
      "Epoch 33/40\n",
      "438/438 [==============================] - 91s 207ms/step - loss: 0.0550 - accuracy: 0.9798 - val_loss: 0.9186 - val_accuracy: 0.8416\n",
      "Epoch 34/40\n",
      "438/438 [==============================] - 91s 207ms/step - loss: 0.0491 - accuracy: 0.9821 - val_loss: 0.8766 - val_accuracy: 0.8508\n",
      "Epoch 35/40\n",
      "438/438 [==============================] - 91s 207ms/step - loss: 0.0539 - accuracy: 0.9805 - val_loss: 1.1592 - val_accuracy: 0.8356\n",
      "Epoch 36/40\n",
      "438/438 [==============================] - 91s 207ms/step - loss: 0.0493 - accuracy: 0.9818 - val_loss: 0.8460 - val_accuracy: 0.8524\n",
      "Epoch 37/40\n",
      "438/438 [==============================] - 91s 207ms/step - loss: 0.0600 - accuracy: 0.9783 - val_loss: 0.7850 - val_accuracy: 0.8472\n",
      "Epoch 38/40\n",
      "438/438 [==============================] - 91s 207ms/step - loss: 0.0485 - accuracy: 0.9819 - val_loss: 0.8451 - val_accuracy: 0.8516\n",
      "Epoch 39/40\n",
      "438/438 [==============================] - 91s 207ms/step - loss: 0.0443 - accuracy: 0.9832 - val_loss: 0.9317 - val_accuracy: 0.8508\n",
      "Epoch 40/40\n",
      "438/438 [==============================] - 91s 208ms/step - loss: 0.0470 - accuracy: 0.9829 - val_loss: 0.9123 - val_accuracy: 0.8560\n"
     ]
    },
    {
     "data": {
      "text/plain": [
       "<keras.callbacks.History at 0x7fbf431a1b20>"
      ]
     },
     "execution_count": 358,
     "metadata": {},
     "output_type": "execute_result"
    }
   ],
   "source": [
    "model.fit(\n",
    "  train_ds,\n",
    "  validation_data=val_ds,\n",
    "  # batch_size = batch_size,\n",
    "  # validation_steps=(200 + batch_size - 1) // batch_size,\n",
    "  epochs=EAPOCHS\n",
    ")"
   ]
  },
  {
   "cell_type": "code",
   "execution_count": 359,
   "metadata": {},
   "outputs": [],
   "source": [
    "# X =[]\n",
    "# Y = []\n",
    "# for x,y in test_ds:\n",
    "#     X.append(x)\n",
    "#     Y.append(y)"
   ]
  },
  {
   "cell_type": "code",
   "execution_count": 360,
   "metadata": {},
   "outputs": [
    {
     "name": "stdout",
     "output_type": "stream",
     "text": [
      "125/125 [==============================] - 8s 61ms/step - loss: 0.9850 - accuracy: 0.8500\n"
     ]
    },
    {
     "data": {
      "text/plain": [
       "[0.984992504119873, 0.8500000238418579]"
      ]
     },
     "execution_count": 360,
     "metadata": {},
     "output_type": "execute_result"
    }
   ],
   "source": [
    "model.evaluate(test_ds)"
   ]
  }
 ],
 "metadata": {
  "interpreter": {
   "hash": "aee8b7b246df8f9039afb4144a1f6fd8d2ca17a180786b69acc140d282b71a49"
  },
  "kernelspec": {
   "display_name": "Python 3.9.0 64-bit",
   "language": "python",
   "name": "python3"
  },
  "language_info": {
   "codemirror_mode": {
    "name": "ipython",
    "version": 3
   },
   "file_extension": ".py",
   "mimetype": "text/x-python",
   "name": "python",
   "nbconvert_exporter": "python",
   "pygments_lexer": "ipython3",
   "version": "3.9.0"
  },
  "orig_nbformat": 4
 },
 "nbformat": 4,
 "nbformat_minor": 2
}
