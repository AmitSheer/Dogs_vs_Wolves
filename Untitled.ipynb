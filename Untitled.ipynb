{
 "cells": [
  {
   "cell_type": "code",
   "execution_count": null,
   "metadata": {},
   "outputs": [],
   "source": [
    "import cv2\n",
    "import numpy as np\n",
    "import pandas as pd\n",
    "import os\n",
    "import matplotlib.pyplot as plt \n",
    "import tensorflow.compat.v1 as tf\n",
    "import random\n",
    "\n",
    "tf.disable_v2_behavior()\n",
    "print(\"Num GPUs Available: \", tf.test.is_built_with_cuda())\n",
    "\n",
    "path=\"./data\"\n",
    "IMG_SIZE=100"
   ]
  },
  {
   "cell_type": "code",
   "execution_count": null,
   "metadata": {},
   "outputs": [],
   "source": [
    "dog_files=os.listdir(path+'/dogs')\n",
    "wolf_files=os.listdir(path+'/wolves')\n",
    "image_paths = []\n",
    "#label: 0 for dog ,1 for wolf # woof -woof\n",
    "labels=[]\n",
    "img=[]\n",
    "for file in dog_files:\n",
    "    image = cv2.imread(path+'/'+'dogs/'+file)\n",
    "    image = cv2.resize(image, (IMG_SIZE,IMG_SIZE))\n",
    "    image = cv2.cvtColor(image, cv2.COLOR_RGB2GRAY)\n",
    "    norm_image = image/255.0 \n",
    "    #Creating and saving each image in the form of numerical data in an array\n",
    "    img.append(norm_image.flatten())\n",
    "    labels.append(0)\n",
    "    image_paths.append(path+'/'+'dogs/'+file)\n",
    "for file in wolf_files:\n",
    "    image = cv2.imread(path+'/'+'wolves/'+file)\n",
    "    image = cv2.resize(image, (IMG_SIZE,IMG_SIZE))\n",
    "    image = cv2.cvtColor(image, cv2.COLOR_RGB2GRAY)\n",
    "    norm_image = image/255.0 \n",
    "          #Creating and saving each image in the form of numerical data in an array\n",
    "    image_paths.append(path+'/'+'wolves/'+file)\n",
    "\n",
    "    img.append(norm_image.flatten())\n",
    "    labels.append(1)"
   ]
  },
  {
   "cell_type": "code",
   "execution_count": null,
   "metadata": {},
   "outputs": [],
   "source": [
    "\n",
    "epoch_size = len(image_paths)\n",
    "\n",
    "image_paths = tf.convert_to_tensor(image_paths, dtype=tf.string)\n",
    "labels = tf.convert_to_tensor(labels)\n",
    "dataset = tf.data.Dataset.from_tensor_slices((image_paths, labels))\n",
    "print(dataset)\n",
    "\n",
    "mode = 'train'\n",
    "out_shape = tf.convert_to_tensor([100, 100])\n",
    "batch_size = 10\n",
    "\n",
    "if mode == 'train':\n",
    "    dataset = dataset.repeat().shuffle(epoch_size)"
   ]
  },
  {
   "cell_type": "code",
   "execution_count": null,
   "metadata": {},
   "outputs": [],
   "source": [
    "def map_fn(path, label):\n",
    "    # path/label represent values for a single example\n",
    "    image = tf.image.decode_jpeg(tf.read_file(path))\n",
    "    # some mapping to constant size - be careful with distorting aspec ratios\n",
    "    # image = tf.image.resize_images(out_shape,(IMG_SIZE,IMG_SIZE))\n",
    "    image = tf.image.resize_images(image, size=[IMG_SIZE,IMG_SIZE],method=tf.image.ResizeMethod.NEAREST_NEIGHBOR, align_corners=True)\n",
    "    # image = tf.image.resize_images(out_shape,size=[IMG_SIZE,IMG_SIZE,IMG_SIZE])\n",
    "    image = tf.image.rgb_to_grayscale(image)\n",
    "    # color normalization - just an example\n",
    "    # image = tf.to_float(image) * (2. / 255) - 1\n",
    "    return image, label\n",
    "    \n",
    "dataset = dataset.map(map_fn, num_parallel_calls=1)\n",
    "train_ds = dataset.take(1400)\n",
    "val_ds = dataset.skip(1400).take(200)\n",
    "test_ds = dataset.skip(1600).take(400)\n",
    "# dataset = dataset.batch(batch_size)\n",
    "# try one of the following\n",
    "# dataset = dataset.prefetch(1)\n",
    "# # dataset = dataset.apply(tf.contrib.data.prefetch_to_device('/gpu:0'))\n",
    "\n",
    "# images, labels = dataset.make_one_shot_iterator().get_next()\n",
    "# print(images)\n",
    "# print(labels)"
   ]
  },
  {
   "cell_type": "code",
   "execution_count": null,
   "metadata": {},
   "outputs": [],
   "source": [
    "df={'data':img,'label':labels}\n",
    "df=pd.DataFrame(df)\n",
    "df = df.sample(frac=1).reset_index(drop=True)"
   ]
  },
  {
   "cell_type": "code",
   "execution_count": null,
   "metadata": {},
   "outputs": [],
   "source": [
    "plt.imshow(df.data[0].reshape(IMG_SIZE,IMG_SIZE))\n",
    "print(df.label[1])\n",
    "#main_train_df,test_df=train_test_split(df, test_size=0.2,shuffle=True,random_state=42)\n",
    "#train_df,val_df=train_test_split(main_train_df, test_size=0.1,shuffle=True,random_state=42)\n",
    "#random.shuffle(df)\n",
    "train_df=df[:1400]\n",
    "val_df=df[1400:1600]\n",
    "test_df=df[1600:]\n"
   ]
  },
  {
   "cell_type": "code",
   "execution_count": null,
   "metadata": {},
   "outputs": [],
   "source": [
    "x_train=list(train_df.data)\n",
    "y_train=np.array(train_df.label).reshape(1400,1)\n",
    "x_val=list(val_df.data)\n",
    "y_val=np.array(val_df.label).reshape(200,1)\n",
    "x_test=list(test_df.data)\n",
    "y_test=np.array(test_df.label).reshape(400,1)"
   ]
  },
  {
   "cell_type": "code",
   "execution_count": null,
   "metadata": {},
   "outputs": [],
   "source": [
    "X=tf.placeholder(tf.float32,[None,IMG_SIZE*IMG_SIZE])\n",
    "Y=tf.placeholder(tf.float32,[None,1])\n",
    "W=tf.Variable(tf.zeros([IMG_SIZE*IMG_SIZE,1]))\n",
    "b=tf.Variable(tf.zeros([1]))\n",
    "eps = 1e-12"
   ]
  },
  {
   "cell_type": "code",
   "execution_count": null,
   "metadata": {},
   "outputs": [],
   "source": [
    "\n",
    "h =tf.matmul(X,W)+b#1 / (1.0 + tf.exp(-(tf.matmul(img,W) + b)))\n",
    "# softmax\n",
    "pred = tf.nn.sigmoid(h)\n",
    "# cost = tf.reduce_mean(-tf.reduce_sum(Y*tf.log(pred), reduction_indices=1))\n",
    "# optimizer = tf.train.GradientDescentOptimizer(learning_rate).minimize(cost)\n",
    "prediction = tf.argmax(pred,1)\n",
    "correct_prediction = tf.equal(prediction, tf.argmax(Y,1))\n",
    "accuracy = tf.reduce_mean(tf.cast(correct_prediction, tf.float32))\n",
    "# loss1 = -(Y * tf.log(h + eps) + (1 - Y) * tf.log( 1 - h + eps))\n",
    "loss1=tf.nn.sigmoid_cross_entropy_with_logits(labels=Y,logits=h)\n",
    "loss = tf.reduce_mean(loss1)\n",
    "# loss = tf.reduce_mean(-tf.reduce_sum(Y*tf.log(pred), reduction_indices=1)) \n",
    "alpha = 0.0053\n",
    "update = tf.train.GradientDescentOptimizer(alpha).minimize(loss)\n",
    "\n",
    "loss_data = []\n"
   ]
  },
  {
   "cell_type": "code",
   "execution_count": null,
   "metadata": {},
   "outputs": [],
   "source": [
    "\n",
    "accuracy.get_shape()"
   ]
  },
  {
   "cell_type": "code",
   "execution_count": null,
   "metadata": {
    "scrolled": false
   },
   "outputs": [],
   "source": [
    "sess=tf.Session()\n",
    "sess.run(tf.global_variables_initializer())\n",
    "for i in range(0,10000):\n",
    "    # sess.run([update],feed_dict={X:x_train,Y:y_train})\n",
    "    # if i%100==0:\n",
    "    #     val_loss, val_accuracy, val_prediction, correct_predicate = sess.run([loss, accuracy, prediction, correct_prediction],feed_dict={X:x_val,Y:y_val})\n",
    "    #     print('Test accuracy at step %s: %.2f%%' % (i, (val_accuracy * 100)))\n",
    "    if i%1000==0:\n",
    "        print(loss.eval(session= sess, feed_dict = {X:x_train,Y:y_train}))\n",
    "        loss_data.append(loss.eval(session= sess, feed_dict = {X:x_train,Y:y_train}))\n",
    "        # train_acc = sess.run(accuracy, feed_dict={X:x_train,Y:y_train})\n",
    "        # print (\" Training accuracy: %.3f\" % (train_acc))\n",
    "        # val_acc = sess.run(accuracy, feed_dict={X:x_val,Y:y_val})\n",
    "        # print (\" Validation accuracy: %.3f\" % (val_acc))\n",
    "    sess.run([update],feed_dict={X:x_train,Y:y_train})\n",
    "        # loss_data.append(loss.eval(session= sess, feed_dict = {X:x_train,Y:y_train}))\n",
    "    # sess.run([update],feed_dict={X:x_train,Y:y_train})"
   ]
  },
  {
   "cell_type": "code",
   "execution_count": null,
   "metadata": {},
   "outputs": [],
   "source": [
    "def getBatch(data,d_label,curr_index,batch_size):\n",
    "    return data[curr_index:curr_index+batch_size],d_label[curr_index:curr_index+batch_size]"
   ]
  },
  {
   "cell_type": "code",
   "execution_count": null,
   "metadata": {},
   "outputs": [],
   "source": [
    "correct_prediction = tf.equal(tf.argmax(pred,1), tf.argmax(Y,1))\n",
    "accuracy = tf.reduce_mean(tf.cast(correct_prediction, tf.float32))\n",
    "\n",
    "print(sess.run(accuracy, feed_dict={X: x_val, Y: y_val}))"
   ]
  },
  {
   "cell_type": "code",
   "execution_count": null,
   "metadata": {},
   "outputs": [],
   "source": [
    "plt.ylabel('loss')\n",
    "plt.xlabel('iteration in 1000')\n",
    "plt.plot(loss_data)\n"
   ]
  },
  {
   "cell_type": "code",
   "execution_count": null,
   "metadata": {},
   "outputs": [],
   "source": [
    "\n",
    "print(sess.run(accuracy, feed_dict={X: x_val, Y: y_val}))"
   ]
  },
  {
   "cell_type": "code",
   "execution_count": null,
   "metadata": {},
   "outputs": [],
   "source": [
    "k={'data':x,'label':labels}\n",
    "type(np.array(k['data']))"
   ]
  },
  {
   "cell_type": "code",
   "execution_count": null,
   "metadata": {},
   "outputs": [],
   "source": [
    "np.array(k['data'])"
   ]
  },
  {
   "cell_type": "code",
   "execution_count": null,
   "metadata": {},
   "outputs": [],
   "source": [
    "numeric_dataset = tf.data.Dataset.from_tensor_slices((train_df.data, train_df.label))"
   ]
  },
  {
   "cell_type": "code",
   "execution_count": null,
   "metadata": {},
   "outputs": [],
   "source": []
  }
 ],
 "metadata": {
  "kernelspec": {
   "display_name": "Python 3 (ipykernel)",
   "language": "python",
   "name": "python3"
  },
  "language_info": {
   "codemirror_mode": {
    "name": "ipython",
    "version": 3
   },
   "file_extension": ".py",
   "mimetype": "text/x-python",
   "name": "python",
   "nbconvert_exporter": "python",
   "pygments_lexer": "ipython3",
   "version": "3.9.9"
  }
 },
 "nbformat": 4,
 "nbformat_minor": 4
}
