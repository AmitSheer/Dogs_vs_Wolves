{
 "cells": [
  {
   "cell_type": "code",
   "execution_count": null,
   "metadata": {},
   "outputs": [],
   "source": [
    "import cv2\n",
    "import numpy as np\n",
    "import pandas as pd\n",
    "import os\n",
    "import matplotlib.pyplot as plt \n",
    "import tensorflow.compat.v1 as tf\n",
    "import random\n",
    "\n",
    "tf.disable_v2_behavior()\n",
    "print(\"Num GPUs Available: \", tf.test.is_built_with_cuda())\n",
    "\n",
    "path=\"../../data\"\n",
    "IMG_SIZE=100"
   ]
  },
  {
   "cell_type": "code",
   "execution_count": null,
   "metadata": {},
   "outputs": [],
   "source": [
    "dog_files=os.listdir(path+'/dogs')\n",
    "wolf_files=os.listdir(path+'/wolves')\n",
    "image_paths = []\n",
    "#label: 0 for dog ,1 for wolf # woof -woof\n",
    "labels=[]\n",
    "img=[]\n",
    "for file in dog_files:\n",
    "    image = cv2.imread(path+'/'+'dogs/'+file)\n",
    "    image = cv2.resize(image, (IMG_SIZE,IMG_SIZE))\n",
    "    image = cv2.cvtColor(image, cv2.COLOR_RGB2GRAY)\n",
    "    norm_image = image/255.0 \n",
    "    # Creating and saving each image in the form of numerical data in an array\n",
    "    img.append(image.flatten())\n",
    "    labels.append([1,0])\n",
    "    image_paths.append(path+'/'+'dogs/'+file)\n",
    "for file in wolf_files:\n",
    "    image = cv2.imread(path+'/'+'wolves/'+file)\n",
    "    image = cv2.resize(image, (IMG_SIZE,IMG_SIZE))\n",
    "    image = cv2.cvtColor(image, cv2.COLOR_RGB2GRAY)\n",
    "    norm_image = image/255.0 \n",
    "          #Creating and saving each image in the form of numerical data in an array\n",
    "    image_paths.append(path+'/'+'wolves/'+file)\n",
    "\n",
    "    img.append(image.flatten())\n",
    "    labels.append([0,1])"
   ]
  },
  {
   "cell_type": "code",
   "execution_count": null,
   "metadata": {},
   "outputs": [],
   "source": [
    "df={'data':img,'label':labels}\n",
    "df=pd.DataFrame(df)\n",
    "df = df.sample(frac=1).reset_index(drop=True)"
   ]
  },
  {
   "cell_type": "code",
   "execution_count": null,
   "metadata": {},
   "outputs": [],
   "source": [
    "plt.imshow(df.data[0].reshape(IMG_SIZE,IMG_SIZE))\n",
    "print(df.label[1])\n",
    "#main_train_df,test_df=train_test_split(df, test_size=0.2,shuffle=True,random_state=42)\n",
    "#train_df,val_df=train_test_split(main_train_df, test_size=0.1,shuffle=True,random_state=42)\n",
    "#random.shuffle(df)\n",
    "train_df=df[:1400]\n",
    "val_df=df[1400:1600]\n",
    "test_df=df[1600:]\n"
   ]
  },
  {
   "cell_type": "code",
   "execution_count": null,
   "metadata": {},
   "outputs": [],
   "source": [
    "def getData(dataset):\n",
    "    img = []\n",
    "    label = []\n",
    "    for x, y in dataset:\n",
    "        img.append(x)\n",
    "        label.append(y)\n",
    "    return img,label"
   ]
  },
  {
   "cell_type": "code",
   "execution_count": null,
   "metadata": {},
   "outputs": [],
   "source": [
    "x_train=list(train_df.data)\n",
    "y_train=list(train_df.label)\n",
    "x_val=list(val_df.data)\n",
    "y_val=list(val_df.label)\n",
    "x_test=list(test_df.data)\n",
    "y_test=list(test_df.label)"
   ]
  },
  {
   "cell_type": "code",
   "execution_count": null,
   "metadata": {},
   "outputs": [],
   "source": [
    "X=tf.placeholder(tf.float32,[None,IMG_SIZE*IMG_SIZE])\n",
    "Y=tf.placeholder(tf.float32,[None,2])\n",
    "W=tf.Variable(tf.zeros([IMG_SIZE*IMG_SIZE,2]))\n",
    "b=tf.Variable(tf.zeros([2]))\n",
    "eps = 1e-12"
   ]
  },
  {
   "cell_type": "code",
   "execution_count": null,
   "metadata": {},
   "outputs": [],
   "source": [
    "\n",
    "h =tf.matmul(X,W)+b#1 / (1.0 + tf.exp(-(tf.matmul(img,W) + b)))\n",
    "# softmax\n",
    "actv = tf.nn.sigmoid(h)\n",
    "# cost = tf.reduce_mean(-tf.reduce_sum(Y*tf.log(pred), reduction_indices=1))\n",
    "# optimizer = tf.train.GradientDescentOptimizer(learning_rate).minimize(cost)\n",
    "prediction = tf.argmax(actv,1)\n",
    "correct_prediction = tf.equal(prediction, tf.argmax(Y,1))\n",
    "accuracy = tf.reduce_mean(tf.cast(correct_prediction, tf.float32))\n",
    "# loss1 = -(Y * tf.log(h + eps) + (1 - Y) * tf.log( 1 - h + eps))\n",
    "loss1=tf.nn.sigmoid_cross_entropy_with_logits(labels=Y,logits=h)\n",
    "loss = tf.reduce_mean(loss1)\n",
    "# loss = tf.reduce_mean(-tf.reduce_sum(Y*tf.log(actv), reduction_indices=1)) \n",
    "# loss = tf.reduce_mean(-tf.reduce_sum(Y*tf.log(pred), reduction_indices=1)) \n",
    "alpha = 0.00000001\n",
    "update = tf.train.GradientDescentOptimizer(alpha).minimize(loss)\n",
    "\n",
    "loss_data = []\n"
   ]
  },
  {
   "cell_type": "code",
   "execution_count": null,
   "metadata": {},
   "outputs": [],
   "source": [
    "batch_size = 140\n",
    "num_batches = int(len(x_train)/batch_size)\n",
    "\n",
    "def getBatch(data,d_label,curr_index,batch_size):\n",
    "    return data[curr_index:curr_index+batch_size],d_label[curr_index:curr_index+batch_size]\n"
   ]
  },
  {
   "cell_type": "code",
   "execution_count": null,
   "metadata": {},
   "outputs": [],
   "source": [
    "arr=np.linspace(0.00000001,0.0000001,num=50)"
   ]
  },
  {
   "cell_type": "code",
   "execution_count": null,
   "metadata": {
    "scrolled": false
   },
   "outputs": [],
   "source": [
    "# arr =[alpha,alpha+alpha/2]\n",
    "max_acc = []\n",
    "max_acc_v = []\n",
    "alphas = [] \n",
    "for j in range(0,len(arr)):\n",
    "    ac=[]\n",
    "    ac_v=[]\n",
    "    print(f\"shitttttttt {arr[j]}\")\n",
    "    update = tf.train.GradientDescentOptimizer(arr[j]).minimize(loss)\n",
    "    sess=tf.Session()\n",
    "    sess.run(tf.global_variables_initializer())\n",
    "    curr_index = 0 \n",
    "    for i in range(0,num_batches):\n",
    "        batch_x,batch_y = getBatch(x_train,y_train,i,batch_size)\n",
    "        if i%7==0:\n",
    "            loss_data.append(loss.eval(session= sess, feed_dict = {X:batch_x,Y:batch_y}))\n",
    "            train_acc,train_loss = sess.run([accuracy,loss], feed_dict={X:batch_x,Y:batch_y})\n",
    "            print (\" Training accuracy: %.10f, Training loss: %.10f\" % (train_acc, train_loss))\n",
    "            val_acc,val_loss = sess.run([accuracy,loss], feed_dict={X:x_val,Y:y_val})\n",
    "            ac_v.append(float(val_acc))\n",
    "            ac.append(float(train_acc))\n",
    "            print (\" Validation accuracy: %.10f, Validation loss: %.10f\" % (val_acc,val_loss))\n",
    "        sess.run([update],feed_dict={X:batch_x,Y:batch_y})\n",
    "    # max_acc.append(np.max(ac))\n",
    "    alphas.append(float(arr[j]))\n",
    "    max_acc_v.append(np.max(ac_v)) \n",
    "    max_acc.append(np.max(ac))\n",
    "# print(loss_data)\n",
    "print(max_acc_v)"
   ]
  },
  {
   "cell_type": "code",
   "execution_count": null,
   "metadata": {},
   "outputs": [],
   "source": [
    "np.multiply(alphas,10000000000000)\n",
    "print(alphas)\n",
    "plt.plot(max_acc_v,xticks=alphas)\n",
    "plt.show()\n",
    "plt.plot(max_acc)\n",
    "plt.xticks(alphas)\n",
    "plt.show()"
   ]
  },
  {
   "cell_type": "code",
   "execution_count": null,
   "metadata": {},
   "outputs": [],
   "source": [
    "def getBatch(data,d_label,curr_index,batch_size):\n",
    "    return data[curr_index:curr_index+batch_size],d_label[curr_index:curr_index+batch_size]"
   ]
  },
  {
   "cell_type": "code",
   "execution_count": null,
   "metadata": {},
   "outputs": [],
   "source": [
    "correct_prediction = tf.equal(tf.argmax(pred,1), tf.argmax(Y,1))\n",
    "accuracy = tf.reduce_mean(tf.cast(correct_prediction, tf.float32))\n",
    "\n",
    "print(sess.run(accuracy, feed_dict={X: x_val, Y: y_val}))"
   ]
  },
  {
   "cell_type": "code",
   "execution_count": null,
   "metadata": {},
   "outputs": [],
   "source": [
    "plt.ylabel('loss')\n",
    "plt.xlabel('iteration in 1000')\n",
    "plt.plot(loss_data)\n"
   ]
  },
  {
   "cell_type": "code",
   "execution_count": null,
   "metadata": {},
   "outputs": [],
   "source": [
    "\n",
    "print(sess.run(accuracy, feed_dict={X: x_val, Y: y_val}))"
   ]
  },
  {
   "cell_type": "code",
   "execution_count": null,
   "metadata": {},
   "outputs": [],
   "source": [
    "k={'data':x,'label':labels}\n",
    "type(np.array(k['data']))"
   ]
  },
  {
   "cell_type": "code",
   "execution_count": null,
   "metadata": {},
   "outputs": [],
   "source": [
    "np.array(k['data'])"
   ]
  },
  {
   "cell_type": "code",
   "execution_count": null,
   "metadata": {},
   "outputs": [],
   "source": [
    "numeric_dataset = tf.data.Dataset.from_tensor_slices((train_df.data, train_df.label))"
   ]
  },
  {
   "cell_type": "code",
   "execution_count": null,
   "metadata": {},
   "outputs": [],
   "source": []
  }
 ],
 "metadata": {
  "kernelspec": {
   "display_name": "Python 3 (ipykernel)",
   "language": "python",
   "name": "python3"
  },
  "language_info": {
   "codemirror_mode": {
    "name": "ipython",
    "version": 3
   },
   "file_extension": ".py",
   "mimetype": "text/x-python",
   "name": "python",
   "nbconvert_exporter": "python",
   "pygments_lexer": "ipython3",
   "version": "3.9.0"
  }
 },
 "nbformat": 4,
 "nbformat_minor": 4
}
