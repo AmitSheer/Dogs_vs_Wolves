{
 "cells": [
  {
   "cell_type": "code",
   "execution_count": 1,
   "metadata": {},
   "outputs": [
    {
     "name": "stdout",
     "output_type": "stream",
     "text": [
      "WARNING:tensorflow:From C:\\Users\\talso\\AppData\\Roaming\\Python\\Python38\\site-packages\\tensorflow\\python\\compat\\v2_compat.py:101: disable_resource_variables (from tensorflow.python.ops.variable_scope) is deprecated and will be removed in a future version.\n",
      "Instructions for updating:\n",
      "non-resource variables are not supported in the long term\n",
      "Num GPUs Available:  True\n"
     ]
    }
   ],
   "source": [
    "import cv2\n",
    "import numpy as np\n",
    "import pandas as pd\n",
    "import os\n",
    "import matplotlib.pyplot as plt \n",
    "import tensorflow.compat.v1 as tf\n",
    "import random\n",
    "\n",
    "tf.disable_v2_behavior()\n",
    "print(\"Num GPUs Available: \", tf.test.is_built_with_cuda())\n",
    "\n",
    "path=\"./data\"\n",
    "IMG_SIZE=50"
   ]
  },
  {
   "cell_type": "code",
   "execution_count": 2,
   "metadata": {},
   "outputs": [],
   "source": [
    "dog_files=os.listdir(path+'/dogs')\n",
    "wolf_files=os.listdir(path+'/wolves')\n",
    "image_paths = []\n",
    "#label: 0 for dog ,1 for wolf # woof -woof\n",
    "labels=[]\n",
    "img=[]\n",
    "for file in dog_files:\n",
    "    image = cv2.imread(path+'/'+'dogs/'+file)\n",
    "    image = cv2.resize(image, (IMG_SIZE,IMG_SIZE))\n",
    "    image = cv2.cvtColor(image, cv2.COLOR_RGB2GRAY)\n",
    "    norm_image = image/255.0 \n",
    "    # Creating and saving each image in the form of numerical data in an array\n",
    "    img.append(image.flatten())\n",
    "    labels.append([1,0])\n",
    "    image_paths.append(path+'/'+'dogs/'+file)\n",
    "for file in wolf_files:\n",
    "    image = cv2.imread(path+'/'+'wolves/'+file)\n",
    "    image = cv2.resize(image, (IMG_SIZE,IMG_SIZE))\n",
    "    image = cv2.cvtColor(image, cv2.COLOR_RGB2GRAY)\n",
    "    norm_image = image/255.0 \n",
    "          #Creating and saving each image in the form of numerical data in an array\n",
    "    image_paths.append(path+'/'+'wolves/'+file)\n",
    "\n",
    "    img.append(image.flatten())\n",
    "    labels.append([0,1])"
   ]
  },
  {
   "cell_type": "code",
   "execution_count": 3,
   "metadata": {},
   "outputs": [],
   "source": [
    "df={'data':img,'label':labels}\n",
    "df=pd.DataFrame(df)\n",
    "df = df.sample(frac=1).reset_index(drop=True)"
   ]
  },
  {
   "cell_type": "code",
   "execution_count": 4,
   "metadata": {},
   "outputs": [
    {
     "name": "stdout",
     "output_type": "stream",
     "text": [
      "[0, 1]\n"
     ]
    },
    {
     "data": {
      "image/png": "[encoded data removed]",
      "text/plain": [
       "<Figure size 432x288 with 1 Axes>"
      ]
     },
     "metadata": {
      "needs_background": "light"
     },
     "output_type": "display_data"
    }
   ],
   "source": [
    "plt.imshow(df.data[0].reshape(IMG_SIZE,IMG_SIZE))\n",
    "print(df.label[1])\n",
    "train_df=df[:1400]\n",
    "val_df=df[1400:1600]\n",
    "test_df=df[1600:]\n"
   ]
  },
  {
   "cell_type": "code",
   "execution_count": 5,
   "metadata": {},
   "outputs": [],
   "source": [
    "x_train=list(train_df.data)\n",
    "y_train=list(train_df.label)\n",
    "x_val=list(val_df.data)\n",
    "y_val=list(val_df.label)\n",
    "x_test=list(test_df.data)\n",
    "y_test=list(test_df.label)"
   ]
  },
  {
   "cell_type": "code",
   "execution_count": 6,
   "metadata": {},
   "outputs": [],
   "source": [
    "X=tf.placeholder(tf.float32,[None,IMG_SIZE*IMG_SIZE])\n",
    "Y=tf.placeholder(tf.float32,[None,2])\n",
    "W=tf.Variable(tf.zeros([IMG_SIZE*IMG_SIZE,2]))\n",
    "b=tf.Variable(tf.zeros([2]))\n"
   ]
  },
  {
   "cell_type": "code",
   "execution_count": 30,
   "metadata": {},
   "outputs": [],
   "source": [
    "#h- the hypthosis aka the prediction\n",
    "h =tf.matmul(X,W)+b\n",
    "# sigmoid\n",
    "actv = tf.nn.sigmoid(h)\n",
    "prediction = tf.argmax(actv,1)\n",
    "correct_prediction = tf.equal(prediction, tf.argmax(Y,1))\n",
    "accuracy = tf.reduce_mean(tf.cast(correct_prediction, tf.float32))\n",
    "\n",
    "loss1=tf.nn.sigmoid_cross_entropy_with_logits(labels=Y,logits=h)\n",
    "loss = tf.reduce_mean(loss1)+0.00001*tf.nn.l2_loss(W)\n",
    "\n",
    "update = tf.train.GradientDescentOptimizer(0.00000001).minimize(loss)\n",
    "\n"
   ]
  },
  {
   "cell_type": "code",
   "execution_count": 18,
   "metadata": {},
   "outputs": [],
   "source": [
    "def printGraph(train_loss,test_loss,train_acc,test_acc):\n",
    "    # print(alphas)\n",
    "    plt.plot(train_loss)\n",
    "    plt.plot(test_loss)\n",
    "    plt.title(\"Loss\")\n",
    "    plt.legend(['train','val'])\n",
    "    # plt.xlabel(index)\n",
    "    plt.show()\n",
    "    plt.plot(train_acc)\n",
    "    plt.plot(test_acc)\n",
    "    plt.title(\"Accuracy\")\n",
    "    plt.legend(['train','val'])\n",
    "    # plt.xlabel(index)\n",
    "    plt.show()"
   ]
  },
  {
   "cell_type": "code",
   "execution_count": 31,
   "metadata": {
    "scrolled": false
   },
   "outputs": [
    {
     "name": "stdout",
     "output_type": "stream",
     "text": [
      " Training accuracy: 0.5114285946, Training loss: 0.6930577755\n",
      " Val accuracy: 0.4799999893, Val loss: 0.6931091547\n",
      " Training accuracy: 0.6228571534, Training loss: 0.6614850760\n",
      " Val accuracy: 0.5824999809, Val loss: 0.6670192480\n",
      " Training accuracy: 0.6342856884, Training loss: 0.6539675593\n",
      " Val accuracy: 0.5824999809, Val loss: 0.6633257866\n",
      " Training accuracy: 0.6378571391, Training loss: 0.6494745612\n",
      " Val accuracy: 0.5874999762, Val loss: 0.6625418067\n",
      " Training accuracy: 0.6421428323, Training loss: 0.6457095146\n",
      " Val accuracy: 0.5824999809, Val loss: 0.6623349786\n",
      " Training accuracy: 0.6471428275, Training loss: 0.6422969103\n",
      " Val accuracy: 0.5874999762, Val loss: 0.6623088717\n",
      " Training accuracy: 0.6535714269, Training loss: 0.6391316652\n",
      " Val accuracy: 0.5899999738, Val loss: 0.6623611450\n",
      " Training accuracy: 0.6614285707, Training loss: 0.6361624599\n",
      " Val accuracy: 0.5799999833, Val loss: 0.6624545455\n",
      " Training accuracy: 0.6678571701, Training loss: 0.6333546042\n",
      " Val accuracy: 0.5799999833, Val loss: 0.6625711322\n",
      " Training accuracy: 0.6707142591, Training loss: 0.6306823492\n",
      " Val accuracy: 0.5799999833, Val loss: 0.6627020240\n",
      " Training accuracy: 0.6700000167, Training loss: 0.6281253695\n",
      " Val accuracy: 0.5749999881, Val loss: 0.6628419757\n",
      " Training accuracy: 0.6721428633, Training loss: 0.6256679893\n",
      " Val accuracy: 0.5749999881, Val loss: 0.6629876494\n",
      " Training accuracy: 0.6721428633, Training loss: 0.6232977509\n",
      " Val accuracy: 0.5699999928, Val loss: 0.6631376743\n",
      " Training accuracy: 0.6742857099, Training loss: 0.6210042834\n",
      " Val accuracy: 0.5849999785, Val loss: 0.6632907391\n",
      " Training accuracy: 0.6792857051, Training loss: 0.6187791824\n",
      " Val accuracy: 0.5774999857, Val loss: 0.6634458899\n",
      " Training accuracy: 0.6821428537, Training loss: 0.6166159511\n",
      " Val accuracy: 0.5774999857, Val loss: 0.6636030674\n",
      " Training accuracy: 0.6835714579, Training loss: 0.6145081520\n",
      " Val accuracy: 0.5774999857, Val loss: 0.6637617350\n",
      " Training accuracy: 0.6878571510, Training loss: 0.6124513745\n",
      " Val accuracy: 0.5849999785, Val loss: 0.6639218330\n",
      " Training accuracy: 0.6885714531, Training loss: 0.6104412079\n",
      " Val accuracy: 0.5849999785, Val loss: 0.6640832424\n",
      " Training accuracy: 0.6907142997, Training loss: 0.6084747314\n",
      " Val accuracy: 0.5849999785, Val loss: 0.6642458439\n"
     ]
    },
    {
     "data": {
      "image/png": "[encoded data removed]",
      "text/plain": [
       "<Figure size 432x288 with 1 Axes>"
      ]
     },
     "metadata": {
      "needs_background": "light"
     },
     "output_type": "display_data"
    },
    {
     "data": {
      "image/png": "[encoded data removed]",
      "text/plain": [
       "<Figure size 432x288 with 1 Axes>"
      ]
     },
     "metadata": {
      "needs_background": "light"
     },
     "output_type": "display_data"
    }
   ],
   "source": [
    "max_acc = []\n",
    "max_acc_v = []\n",
    "train_loss_arr=[]\n",
    "val_loss_arr=[]\n",
    "train_acc_arr=[]\n",
    "val_acc_arr=[]\n",
    "ac=[]\n",
    "ac_v=[]\n",
    "sess=tf.Session()\n",
    "sess.run(tf.global_variables_initializer())\n",
    "for k in range(0,20000):\n",
    "    curr_index = 0\n",
    "    # for i in range(0,num_batches):\n",
    "        # batch_x,batch_y = getBatch(x_train,y_train,i,batch_size)\n",
    "    if k%1000==1:\n",
    "        #loss_data.append(loss.eval(session= sess, feed_dict = {X:x_train,Y:y_train}))\n",
    "        train_acc,train_loss = sess.run([accuracy,loss], feed_dict={X:x_train,Y:y_train})\n",
    "        val_acc,val_loss = sess.run([accuracy,loss], feed_dict={X:x_val,Y:y_val})\n",
    "        print (\" Training accuracy: %.10f, Training loss: %.10f\" % (train_acc, train_loss))\n",
    "        print (\" Val accuracy: %.10f, Val loss: %.10f\" % (val_acc, val_loss))\n",
    "        val_acc_arr.append(float(val_acc)) \n",
    "        train_acc_arr.append(float(train_acc))\n",
    "        val_loss_arr.append(float(val_loss))\n",
    "        train_loss_arr.append(float(train_loss))\n",
    "    sess.run([update],feed_dict={X:x_train,Y:y_train})\n",
    "printGraph(train_loss_arr,val_loss_arr,train_acc_arr,val_acc_arr)\n",
    "test_acc,test_loss = sess.run([accuracy,loss], feed_dict={X:x_test,Y:y_test})\n",
    "print (\" Val accuracy: %.10f, Val loss: %.10f\" % (test_acc, test_loss))\n",
    "\n",
    "\n",
    "\n"
   ]
  }
 ],
 "metadata": {
  "kernelspec": {
   "display_name": "Python 3",
   "language": "python",
   "name": "python3"
  },
  "language_info": {
   "codemirror_mode": {
    "name": "ipython",
    "version": 3
   },
   "file_extension": ".py",
   "mimetype": "text/x-python",
   "name": "python",
   "nbconvert_exporter": "python",
   "pygments_lexer": "ipython3",
   "version": "3.8.5"
  }
 },
 "nbformat": 4,
 "nbformat_minor": 4
}
